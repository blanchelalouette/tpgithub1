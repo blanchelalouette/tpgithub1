{
  "nbformat": 4,
  "nbformat_minor": 0,
  "metadata": {
    "colab": {
      "name": "Cas Saint GOBAIN -  Prédiction des professions clients",
      "provenance": [],
      "collapsed_sections": [],
      "include_colab_link": true
    },
    "kernelspec": {
      "name": "python3",
      "display_name": "Python 3"
    }
  },
  "cells": [
    {
      "cell_type": "markdown",
      "metadata": {
        "id": "view-in-github",
        "colab_type": "text"
      },
      "source": [
        "<a href=\"https://colab.research.google.com/github/blanchelalouette/tpgithub1/blob/master/Cas_Saint_GOBAIN_Pr%C3%A9diction_des_professions_clients.ipynb\" target=\"_parent\"><img src=\"https://colab.research.google.com/assets/colab-badge.svg\" alt=\"Open In Colab\"/></a>"
      ]
    },
    {
      "cell_type": "markdown",
      "metadata": {
        "id": "zPFsLMDzy3bu"
      },
      "source": [
        "# TEST PYTHON : PREDICTION DES PROFESSIONS CLIENTS \r\n",
        "\r\n",
        "## Blanche LALOUETTE\r\n",
        "\r\n",
        "### Candidature pour un stage en data science\r\n",
        "\r\n",
        "\r\n"
      ]
    },
    {
      "cell_type": "markdown",
      "metadata": {
        "id": "bHboHNdxVewG"
      },
      "source": [
        "## Consignes : \r\n",
        "- But: Prédire la profession des clients\r\n",
        "- Requis:\r\n",
        "  - Langage de programmation: Python\r\n",
        "  - Librairies: toutes\r\n",
        "  - Un code lisible, pouvant donner lieu à discussion.\r\n",
        "- Données accessibles:\r\n",
        "  - techtest/README.txt : Ce fichier\r\n",
        "  - techtest/data/Facturations.csv : facturation des clients\r\n",
        "  - techtest/data/Clients.csv : meta données sur les clients \r\n",
        "  - techtest/data/Clients_to_complete.csv : Données manquantes sur les clients - à prédire.\r\n",
        "- Note:\r\n",
        "  - Ces données sont fausses et ont été générées dans le cadre de ce test.\r\n",
        "- A livrer:\r\n",
        "  - Un fichier zip contenant:\r\n",
        "    - Un code exécutable (dans un dossier ./code/)\r\n",
        "    - Un fichier solution.pdf  expliquant les choix et l'explication de la solution développée \r\n",
        "    - Un fichier solution.csv avec une ligne par client du fichier clients_to_complete avec le format suivant: \"client_id,predicted_profession\"\r\n"
      ]
    },
    {
      "cell_type": "markdown",
      "metadata": {
        "id": "ubYbtoDQVI0N"
      },
      "source": [
        "# Installation des packages nécessaires "
      ]
    },
    {
      "cell_type": "code",
      "metadata": {
        "id": "F8qds4eqLk_d"
      },
      "source": [
        "import numpy as np\r\n",
        "import pandas as pd\r\n",
        "%matplotlib inline\r\n",
        "import matplotlib.pyplot as plt\r\n",
        "import matplotlib as mpl\r\n",
        "import seaborn as sns\r\n",
        "from IPython.core.interactiveshell import InteractiveShell\r\n",
        "InteractiveShell.ast_node_interactivity =\"all\"\r\n",
        "\r\n",
        "sns.set_style('whitegrid')"
      ],
      "execution_count": 130,
      "outputs": []
    },
    {
      "cell_type": "markdown",
      "metadata": {
        "id": "jAOr7rwRMKOM"
      },
      "source": [
        "# Importation des données "
      ]
    },
    {
      "cell_type": "code",
      "metadata": {
        "colab": {
          "base_uri": "https://localhost:8080/",
          "height": 407
        },
        "id": "-RLPUJkyMIWM",
        "outputId": "c0d66b60-e761-4123-bdd3-114c60f4a074"
      },
      "source": [
        "from datetime import datetime\r\n",
        "facturations = pd.read_csv(\"Facturations.csv\")\r\n",
        "#facturations[\"time\"] = facturations['timestamp'].apply(datetime.fromtimestamp)\r\n",
        "facturations"
      ],
      "execution_count": 131,
      "outputs": [
        {
          "output_type": "execute_result",
          "data": {
            "text/html": [
              "<div>\n",
              "<style scoped>\n",
              "    .dataframe tbody tr th:only-of-type {\n",
              "        vertical-align: middle;\n",
              "    }\n",
              "\n",
              "    .dataframe tbody tr th {\n",
              "        vertical-align: top;\n",
              "    }\n",
              "\n",
              "    .dataframe thead th {\n",
              "        text-align: right;\n",
              "    }\n",
              "</style>\n",
              "<table border=\"1\" class=\"dataframe\">\n",
              "  <thead>\n",
              "    <tr style=\"text-align: right;\">\n",
              "      <th></th>\n",
              "      <th>product_id</th>\n",
              "      <th>client_id</th>\n",
              "      <th>timestamp</th>\n",
              "    </tr>\n",
              "  </thead>\n",
              "  <tbody>\n",
              "    <tr>\n",
              "      <th>0</th>\n",
              "      <td>21.0</td>\n",
              "      <td>7.954279e+12</td>\n",
              "      <td>1.486218e+09</td>\n",
              "    </tr>\n",
              "    <tr>\n",
              "      <th>1</th>\n",
              "      <td>12.0</td>\n",
              "      <td>1.030792e+13</td>\n",
              "      <td>1.477860e+09</td>\n",
              "    </tr>\n",
              "    <tr>\n",
              "      <th>2</th>\n",
              "      <td>3.0</td>\n",
              "      <td>2.843268e+12</td>\n",
              "      <td>1.450139e+09</td>\n",
              "    </tr>\n",
              "    <tr>\n",
              "      <th>3</th>\n",
              "      <td>90.0</td>\n",
              "      <td>1.230079e+13</td>\n",
              "      <td>1.479925e+09</td>\n",
              "    </tr>\n",
              "    <tr>\n",
              "      <th>4</th>\n",
              "      <td>86.0</td>\n",
              "      <td>1.752347e+12</td>\n",
              "      <td>1.506672e+09</td>\n",
              "    </tr>\n",
              "    <tr>\n",
              "      <th>...</th>\n",
              "      <td>...</td>\n",
              "      <td>...</td>\n",
              "      <td>...</td>\n",
              "    </tr>\n",
              "    <tr>\n",
              "      <th>80109</th>\n",
              "      <td>56.0</td>\n",
              "      <td>2.293513e+12</td>\n",
              "      <td>1.475233e+09</td>\n",
              "    </tr>\n",
              "    <tr>\n",
              "      <th>80110</th>\n",
              "      <td>5.0</td>\n",
              "      <td>1.047972e+12</td>\n",
              "      <td>1.468841e+09</td>\n",
              "    </tr>\n",
              "    <tr>\n",
              "      <th>80111</th>\n",
              "      <td>56.0</td>\n",
              "      <td>1.192283e+13</td>\n",
              "      <td>1.446590e+09</td>\n",
              "    </tr>\n",
              "    <tr>\n",
              "      <th>80112</th>\n",
              "      <td>43.0</td>\n",
              "      <td>7.352984e+12</td>\n",
              "      <td>1.419129e+09</td>\n",
              "    </tr>\n",
              "    <tr>\n",
              "      <th>80113</th>\n",
              "      <td>63.0</td>\n",
              "      <td>6.116033e+12</td>\n",
              "      <td>1.477968e+09</td>\n",
              "    </tr>\n",
              "  </tbody>\n",
              "</table>\n",
              "<p>80114 rows × 3 columns</p>\n",
              "</div>"
            ],
            "text/plain": [
              "       product_id     client_id     timestamp\n",
              "0            21.0  7.954279e+12  1.486218e+09\n",
              "1            12.0  1.030792e+13  1.477860e+09\n",
              "2             3.0  2.843268e+12  1.450139e+09\n",
              "3            90.0  1.230079e+13  1.479925e+09\n",
              "4            86.0  1.752347e+12  1.506672e+09\n",
              "...           ...           ...           ...\n",
              "80109        56.0  2.293513e+12  1.475233e+09\n",
              "80110         5.0  1.047972e+12  1.468841e+09\n",
              "80111        56.0  1.192283e+13  1.446590e+09\n",
              "80112        43.0  7.352984e+12  1.419129e+09\n",
              "80113        63.0  6.116033e+12  1.477968e+09\n",
              "\n",
              "[80114 rows x 3 columns]"
            ]
          },
          "metadata": {
            "tags": []
          },
          "execution_count": 131
        }
      ]
    },
    {
      "cell_type": "code",
      "metadata": {
        "colab": {
          "base_uri": "https://localhost:8080/",
          "height": 407
        },
        "id": "RZvmuSCzMOUb",
        "outputId": "589dd912-4f87-42ac-a21f-11f3c3ab953d"
      },
      "source": [
        "clients = pd.read_csv(\"Clients.csv\", encoding = 'latin-1', sep=';')\r\n",
        "clients"
      ],
      "execution_count": 132,
      "outputs": [
        {
          "output_type": "execute_result",
          "data": {
            "text/html": [
              "<div>\n",
              "<style scoped>\n",
              "    .dataframe tbody tr th:only-of-type {\n",
              "        vertical-align: middle;\n",
              "    }\n",
              "\n",
              "    .dataframe tbody tr th {\n",
              "        vertical-align: top;\n",
              "    }\n",
              "\n",
              "    .dataframe thead th {\n",
              "        text-align: right;\n",
              "    }\n",
              "</style>\n",
              "<table border=\"1\" class=\"dataframe\">\n",
              "  <thead>\n",
              "    <tr style=\"text-align: right;\">\n",
              "      <th></th>\n",
              "      <th>client_id</th>\n",
              "      <th>Anciennete</th>\n",
              "      <th>Profession</th>\n",
              "    </tr>\n",
              "  </thead>\n",
              "  <tbody>\n",
              "    <tr>\n",
              "      <th>0</th>\n",
              "      <td>13460427505664</td>\n",
              "      <td>142.0</td>\n",
              "      <td>Menuisier</td>\n",
              "    </tr>\n",
              "    <tr>\n",
              "      <th>1</th>\n",
              "      <td>4707284156416</td>\n",
              "      <td>259.0</td>\n",
              "      <td>Platrier</td>\n",
              "    </tr>\n",
              "    <tr>\n",
              "      <th>2</th>\n",
              "      <td>2525440770048</td>\n",
              "      <td>36.0</td>\n",
              "      <td>Menuisier</td>\n",
              "    </tr>\n",
              "    <tr>\n",
              "      <th>3</th>\n",
              "      <td>16973710753795</td>\n",
              "      <td>216.0</td>\n",
              "      <td>Maçon</td>\n",
              "    </tr>\n",
              "    <tr>\n",
              "      <th>4</th>\n",
              "      <td>3642132267010</td>\n",
              "      <td>19.0</td>\n",
              "      <td>Menuisier</td>\n",
              "    </tr>\n",
              "    <tr>\n",
              "      <th>...</th>\n",
              "      <td>...</td>\n",
              "      <td>...</td>\n",
              "      <td>...</td>\n",
              "    </tr>\n",
              "    <tr>\n",
              "      <th>4980</th>\n",
              "      <td>7696581394432</td>\n",
              "      <td>43.0</td>\n",
              "      <td>Platrier</td>\n",
              "    </tr>\n",
              "    <tr>\n",
              "      <th>4981</th>\n",
              "      <td>10402410790913</td>\n",
              "      <td>66.0</td>\n",
              "      <td>Maçon</td>\n",
              "    </tr>\n",
              "    <tr>\n",
              "      <th>4982</th>\n",
              "      <td>14379550507009</td>\n",
              "      <td>70.0</td>\n",
              "      <td>Menuisier</td>\n",
              "    </tr>\n",
              "    <tr>\n",
              "      <th>4983</th>\n",
              "      <td>2508260900866</td>\n",
              "      <td>118.0</td>\n",
              "      <td>Menuisier</td>\n",
              "    </tr>\n",
              "    <tr>\n",
              "      <th>4984</th>\n",
              "      <td>206158430211</td>\n",
              "      <td>NaN</td>\n",
              "      <td>Maçon</td>\n",
              "    </tr>\n",
              "  </tbody>\n",
              "</table>\n",
              "<p>4985 rows × 3 columns</p>\n",
              "</div>"
            ],
            "text/plain": [
              "           client_id  Anciennete Profession\n",
              "0     13460427505664       142.0  Menuisier\n",
              "1      4707284156416       259.0   Platrier\n",
              "2      2525440770048        36.0  Menuisier\n",
              "3     16973710753795       216.0      Maçon\n",
              "4      3642132267010        19.0  Menuisier\n",
              "...              ...         ...        ...\n",
              "4980   7696581394432        43.0   Platrier\n",
              "4981  10402410790913        66.0      Maçon\n",
              "4982  14379550507009        70.0  Menuisier\n",
              "4983   2508260900866       118.0  Menuisier\n",
              "4984    206158430211         NaN      Maçon\n",
              "\n",
              "[4985 rows x 3 columns]"
            ]
          },
          "metadata": {
            "tags": []
          },
          "execution_count": 132
        }
      ]
    },
    {
      "cell_type": "code",
      "metadata": {
        "colab": {
          "base_uri": "https://localhost:8080/",
          "height": 407
        },
        "id": "J_Yz_BrUMbu_",
        "outputId": "fe931bc9-1784-4f2f-daf3-2393b928a773"
      },
      "source": [
        "clients_to_complete = pd.read_csv(\"Clients_to_complete.csv\", encoding = 'latin-1', sep=';')\r\n",
        "clients_to_complete"
      ],
      "execution_count": 133,
      "outputs": [
        {
          "output_type": "execute_result",
          "data": {
            "text/html": [
              "<div>\n",
              "<style scoped>\n",
              "    .dataframe tbody tr th:only-of-type {\n",
              "        vertical-align: middle;\n",
              "    }\n",
              "\n",
              "    .dataframe tbody tr th {\n",
              "        vertical-align: top;\n",
              "    }\n",
              "\n",
              "    .dataframe thead th {\n",
              "        text-align: right;\n",
              "    }\n",
              "</style>\n",
              "<table border=\"1\" class=\"dataframe\">\n",
              "  <thead>\n",
              "    <tr style=\"text-align: right;\">\n",
              "      <th></th>\n",
              "      <th>client_id</th>\n",
              "    </tr>\n",
              "  </thead>\n",
              "  <tbody>\n",
              "    <tr>\n",
              "      <th>0</th>\n",
              "      <td>240518168577</td>\n",
              "    </tr>\n",
              "    <tr>\n",
              "      <th>1</th>\n",
              "      <td>3659312136192</td>\n",
              "    </tr>\n",
              "    <tr>\n",
              "      <th>2</th>\n",
              "      <td>4123168604161</td>\n",
              "    </tr>\n",
              "    <tr>\n",
              "      <th>3</th>\n",
              "      <td>7456063225858</td>\n",
              "    </tr>\n",
              "    <tr>\n",
              "      <th>4</th>\n",
              "      <td>1829656068096</td>\n",
              "    </tr>\n",
              "    <tr>\n",
              "      <th>...</th>\n",
              "      <td>...</td>\n",
              "    </tr>\n",
              "    <tr>\n",
              "      <th>1260</th>\n",
              "      <td>16372415332352</td>\n",
              "    </tr>\n",
              "    <tr>\n",
              "      <th>1261</th>\n",
              "      <td>953482739712</td>\n",
              "    </tr>\n",
              "    <tr>\n",
              "      <th>1262</th>\n",
              "      <td>7980049235969</td>\n",
              "    </tr>\n",
              "    <tr>\n",
              "      <th>1263</th>\n",
              "      <td>6047313952769</td>\n",
              "    </tr>\n",
              "    <tr>\n",
              "      <th>1264</th>\n",
              "      <td>10617159155713</td>\n",
              "    </tr>\n",
              "  </tbody>\n",
              "</table>\n",
              "<p>1265 rows × 1 columns</p>\n",
              "</div>"
            ],
            "text/plain": [
              "           client_id\n",
              "0       240518168577\n",
              "1      3659312136192\n",
              "2      4123168604161\n",
              "3      7456063225858\n",
              "4      1829656068096\n",
              "...              ...\n",
              "1260  16372415332352\n",
              "1261    953482739712\n",
              "1262   7980049235969\n",
              "1263   6047313952769\n",
              "1264  10617159155713\n",
              "\n",
              "[1265 rows x 1 columns]"
            ]
          },
          "metadata": {
            "tags": []
          },
          "execution_count": 133
        }
      ]
    },
    {
      "cell_type": "markdown",
      "metadata": {
        "id": "rT9y8HdvMe5Y"
      },
      "source": [
        "# Statistiques descriptives : appropriation des données"
      ]
    },
    {
      "cell_type": "markdown",
      "metadata": {
        "id": "P6ejeLGkWf7U"
      },
      "source": [
        "*Afin de s'approprier les données, j'ai choisi de faire quelques graphes descriptifs. L'idée est de voir les caractéristiques des différentes variables, de me rendre compte de ce qui me servira ou non à la modélisation*"
      ]
    },
    {
      "cell_type": "markdown",
      "metadata": {
        "id": "uNKJ_V_LVutd"
      },
      "source": [
        "### Base clients"
      ]
    },
    {
      "cell_type": "code",
      "metadata": {
        "colab": {
          "base_uri": "https://localhost:8080/",
          "height": 322
        },
        "id": "6npD9H3XMh2U",
        "outputId": "6567cc75-2b32-4b42-8368-17eea3be9303"
      },
      "source": [
        "clients['Profession'].value_counts().plot(kind='bar', color='r')"
      ],
      "execution_count": 134,
      "outputs": [
        {
          "output_type": "execute_result",
          "data": {
            "text/plain": [
              "<matplotlib.axes._subplots.AxesSubplot at 0x7f87506d90f0>"
            ]
          },
          "metadata": {
            "tags": []
          },
          "execution_count": 134
        },
        {
          "output_type": "display_data",
          "data": {
            "image/png": "[encoded data removed]",
            "text/plain": [
              "<Figure size 432x288 with 1 Axes>"
            ]
          },
          "metadata": {
            "tags": []
          }
        }
      ]
    },
    {
      "cell_type": "markdown",
      "metadata": {
        "id": "lyscbB-c8lyj"
      },
      "source": [
        "On remarque qu'il y a beaucoup plus de menuisiers. En prévision d'un modèle, il faudra donc rééquilibrer les proporsions de chaque profession pour ne pas fausser la prédiction. "
      ]
    },
    {
      "cell_type": "code",
      "metadata": {
        "colab": {
          "base_uri": "https://localhost:8080/",
          "height": 279
        },
        "id": "LNmYSuB_MkK0",
        "outputId": "f18b944c-b6c4-4ded-fcee-5b00db29c5e7"
      },
      "source": [
        "clients_anciennete = clients.copy()\r\n",
        "clients_anciennete.drop([\"client_id\"], axis = 'columns', inplace = True)\r\n",
        "ax = sns.boxplot(x=\"Profession\", y=\"Anciennete\", data=clients_anciennete, palette=\"Set3\")"
      ],
      "execution_count": 135,
      "outputs": [
        {
          "output_type": "display_data",
          "data": {
            "image/png": "[encoded data removed]",
            "text/plain": [
              "<Figure size 432x288 with 1 Axes>"
            ]
          },
          "metadata": {
            "tags": []
          }
        }
      ]
    },
    {
      "cell_type": "markdown",
      "metadata": {
        "id": "_PFV5ibJW75G"
      },
      "source": [
        "Les données d'ancienneté sont réparties de manières similaires entre les professions, il n'y a pas de grandes divergences. Il apparait donc que la variable ancienneté ne soit pas déterminante pour prédire la profession des clients. "
      ]
    },
    {
      "cell_type": "markdown",
      "metadata": {
        "id": "Z0fxOxZoV5Az"
      },
      "source": [
        "### Base facturations"
      ]
    },
    {
      "cell_type": "code",
      "metadata": {
        "colab": {
          "base_uri": "https://localhost:8080/"
        },
        "id": "tQ4ko8NIbQws",
        "outputId": "8264f668-56d4-439b-d46c-4965ca944ef1"
      },
      "source": [
        "len(facturations)\r\n",
        "print('Nombre de dates d achat différentes:')\r\n",
        "len(pd.unique(facturations[\"timestamp\"]))\r\n",
        "print('Nombre de clients différents:')\r\n",
        "len(pd.unique(facturations[\"client_id\"]))"
      ],
      "execution_count": 136,
      "outputs": [
        {
          "output_type": "execute_result",
          "data": {
            "text/plain": [
              "80114"
            ]
          },
          "metadata": {
            "tags": []
          },
          "execution_count": 136
        },
        {
          "output_type": "stream",
          "text": [
            "Nombre de dates d achat différentes:\n"
          ],
          "name": "stdout"
        },
        {
          "output_type": "execute_result",
          "data": {
            "text/plain": [
              "57167"
            ]
          },
          "metadata": {
            "tags": []
          },
          "execution_count": 136
        },
        {
          "output_type": "stream",
          "text": [
            "Nombre de clients différents:\n"
          ],
          "name": "stdout"
        },
        {
          "output_type": "execute_result",
          "data": {
            "text/plain": [
              "5974"
            ]
          },
          "metadata": {
            "tags": []
          },
          "execution_count": 136
        }
      ]
    },
    {
      "cell_type": "markdown",
      "metadata": {
        "id": "5rGwyOOWYkJC"
      },
      "source": [
        "La base facturations regroupent 5 974 clients sur 80 114 données à 57 167 dates différentes "
      ]
    },
    {
      "cell_type": "code",
      "metadata": {
        "colab": {
          "base_uri": "https://localhost:8080/",
          "height": 365
        },
        "id": "VzouFLYgMrma",
        "outputId": "c5653630-2828-4f72-c1d9-7e0ddf2b94aa"
      },
      "source": [
        "plt.hist(facturations[\"product_id\"],range = (0,100), bins=20,align=\"mid\",rwidth=0.9,color=\"b\",edgecolor=\"red\",label=\"produits\")"
      ],
      "execution_count": 137,
      "outputs": [
        {
          "output_type": "execute_result",
          "data": {
            "text/plain": [
              "(array([3777., 3599., 4165., 3811., 3849., 3857., 4317., 4464., 3731.,\n",
              "        4305., 4102., 4001., 3874., 3686., 3589., 4274., 4052., 3910.,\n",
              "        4463., 4220.]),\n",
              " array([  0.,   5.,  10.,  15.,  20.,  25.,  30.,  35.,  40.,  45.,  50.,\n",
              "         55.,  60.,  65.,  70.,  75.,  80.,  85.,  90.,  95., 100.]),\n",
              " <a list of 20 Patch objects>)"
            ]
          },
          "metadata": {
            "tags": []
          },
          "execution_count": 137
        },
        {
          "output_type": "display_data",
          "data": {
            "image/png": "[encoded data removed]",
            "text/plain": [
              "<Figure size 432x288 with 1 Axes>"
            ]
          },
          "metadata": {
            "tags": []
          }
        }
      ]
    },
    {
      "cell_type": "markdown",
      "metadata": {
        "id": "0IQlGGENaZAI"
      },
      "source": [
        "En ce qui concerne les différents produits, leur fréquence d'achat varie entre 3500 et 45000. Dans l'ensemble, c'est plutot homogène. Malgré quelques pics, aucun produit ne se distingue largement par rapport aux autres. On suppose également que cette variable ne sera pas déterminante pour la différenciation des professions. "
      ]
    },
    {
      "cell_type": "code",
      "metadata": {
        "id": "8OdUQYdIfpEh",
        "colab": {
          "base_uri": "https://localhost:8080/",
          "height": 445
        },
        "outputId": "26abc0f2-700a-45d7-d10f-e7e5a9356a12"
      },
      "source": [
        "facturations['timestamp']=facturations['timestamp']-min(facturations['timestamp'])\r\n",
        "plt.hist(facturations[\"timestamp\"],range = (0,max(facturations['timestamp'])), bins=20,align=\"mid\",rwidth=0.9,color=\"b\",edgecolor=\"red\",label=\"timestamp\")"
      ],
      "execution_count": 138,
      "outputs": [
        {
          "output_type": "execute_result",
          "data": {
            "text/plain": [
              "(array([   36.,    50.,   126.,   517.,  1192.,  2250.,  3969.,  5728.,\n",
              "         8847., 10622., 11282., 10971.,  9227.,  6506.,  4091.,  1946.,\n",
              "         1149.,   563.,   212.,    59.]),\n",
              " array([0.00000000e+00, 1.13744973e+07, 2.27489946e+07, 3.41234919e+07,\n",
              "        4.54979892e+07, 5.68724865e+07, 6.82469838e+07, 7.96214811e+07,\n",
              "        9.09959784e+07, 1.02370476e+08, 1.13744973e+08, 1.25119470e+08,\n",
              "        1.36493968e+08, 1.47868465e+08, 1.59242962e+08, 1.70617460e+08,\n",
              "        1.81991957e+08, 1.93366454e+08, 2.04740951e+08, 2.16115449e+08,\n",
              "        2.27489946e+08]),\n",
              " <a list of 20 Patch objects>)"
            ]
          },
          "metadata": {
            "tags": []
          },
          "execution_count": 138
        },
        {
          "output_type": "display_data",
          "data": {
            "image/png": "[encoded data removed]",
            "text/plain": [
              "<Figure size 432x288 with 1 Axes>"
            ]
          },
          "metadata": {
            "tags": []
          }
        }
      ]
    },
    {
      "cell_type": "markdown",
      "metadata": {
        "id": "WHqxOAFNcOyO"
      },
      "source": [
        "La variable timestamp n'étant pas exprimée en date, et la commande de transformation de timestamp en date ne fonctionnant pas, j'ai décidé de fixé un début à la première donnée d'achat et d'observer la répartition de toutes les données à partir de ce premier achat modélisé en t=0. Ce qu'on peut voir, c'est que la fréquence des achats ressemble à une loi normale et donc parait plus aléatoire. "
      ]
    },
    {
      "cell_type": "markdown",
      "metadata": {
        "id": "_-GcBZpKWAHO"
      },
      "source": [
        "\r\n",
        "### Comparaison et fusion des bases \r\n",
        "\r\n",
        "*Regroupons toutes les données et les informations de façon à avoir un data frame propre pour notre modélisation*"
      ]
    },
    {
      "cell_type": "code",
      "metadata": {
        "colab": {
          "base_uri": "https://localhost:8080/",
          "height": 440
        },
        "id": "Z7e5EhxGM1-X",
        "outputId": "faed64b2-0fca-4cc4-953b-472e9c24527e"
      },
      "source": [
        "fusion = pd.merge(clients,facturations, on=['client_id'], how ='outer')\r\n",
        "fusion\r\n",
        "\r\n",
        "print('Nombre de clients différents:')\r\n",
        "len(pd.unique(fusion[\"client_id\"]))"
      ],
      "execution_count": 139,
      "outputs": [
        {
          "output_type": "execute_result",
          "data": {
            "text/html": [
              "<div>\n",
              "<style scoped>\n",
              "    .dataframe tbody tr th:only-of-type {\n",
              "        vertical-align: middle;\n",
              "    }\n",
              "\n",
              "    .dataframe tbody tr th {\n",
              "        vertical-align: top;\n",
              "    }\n",
              "\n",
              "    .dataframe thead th {\n",
              "        text-align: right;\n",
              "    }\n",
              "</style>\n",
              "<table border=\"1\" class=\"dataframe\">\n",
              "  <thead>\n",
              "    <tr style=\"text-align: right;\">\n",
              "      <th></th>\n",
              "      <th>client_id</th>\n",
              "      <th>Anciennete</th>\n",
              "      <th>Profession</th>\n",
              "      <th>product_id</th>\n",
              "      <th>timestamp</th>\n",
              "    </tr>\n",
              "  </thead>\n",
              "  <tbody>\n",
              "    <tr>\n",
              "      <th>0</th>\n",
              "      <td>1.346043e+13</td>\n",
              "      <td>142.0</td>\n",
              "      <td>Menuisier</td>\n",
              "      <td>5.0</td>\n",
              "      <td>149398419.0</td>\n",
              "    </tr>\n",
              "    <tr>\n",
              "      <th>1</th>\n",
              "      <td>1.346043e+13</td>\n",
              "      <td>142.0</td>\n",
              "      <td>Menuisier</td>\n",
              "      <td>92.0</td>\n",
              "      <td>151336821.0</td>\n",
              "    </tr>\n",
              "    <tr>\n",
              "      <th>2</th>\n",
              "      <td>1.346043e+13</td>\n",
              "      <td>142.0</td>\n",
              "      <td>Menuisier</td>\n",
              "      <td>60.0</td>\n",
              "      <td>208942234.0</td>\n",
              "    </tr>\n",
              "    <tr>\n",
              "      <th>3</th>\n",
              "      <td>1.346043e+13</td>\n",
              "      <td>142.0</td>\n",
              "      <td>Menuisier</td>\n",
              "      <td>68.0</td>\n",
              "      <td>143765390.0</td>\n",
              "    </tr>\n",
              "    <tr>\n",
              "      <th>4</th>\n",
              "      <td>1.346043e+13</td>\n",
              "      <td>142.0</td>\n",
              "      <td>Menuisier</td>\n",
              "      <td>57.0</td>\n",
              "      <td>114260889.0</td>\n",
              "    </tr>\n",
              "    <tr>\n",
              "      <th>...</th>\n",
              "      <td>...</td>\n",
              "      <td>...</td>\n",
              "      <td>...</td>\n",
              "      <td>...</td>\n",
              "      <td>...</td>\n",
              "    </tr>\n",
              "    <tr>\n",
              "      <th>80330</th>\n",
              "      <td>1.345184e+13</td>\n",
              "      <td>NaN</td>\n",
              "      <td>NaN</td>\n",
              "      <td>99.0</td>\n",
              "      <td>118138155.0</td>\n",
              "    </tr>\n",
              "    <tr>\n",
              "      <th>80331</th>\n",
              "      <td>1.345184e+13</td>\n",
              "      <td>NaN</td>\n",
              "      <td>NaN</td>\n",
              "      <td>99.0</td>\n",
              "      <td>118138155.0</td>\n",
              "    </tr>\n",
              "    <tr>\n",
              "      <th>80332</th>\n",
              "      <td>1.114115e+13</td>\n",
              "      <td>NaN</td>\n",
              "      <td>NaN</td>\n",
              "      <td>82.0</td>\n",
              "      <td>160840408.0</td>\n",
              "    </tr>\n",
              "    <tr>\n",
              "      <th>80333</th>\n",
              "      <td>1.114115e+13</td>\n",
              "      <td>NaN</td>\n",
              "      <td>NaN</td>\n",
              "      <td>82.0</td>\n",
              "      <td>160840408.0</td>\n",
              "    </tr>\n",
              "    <tr>\n",
              "      <th>80334</th>\n",
              "      <td>NaN</td>\n",
              "      <td>NaN</td>\n",
              "      <td>NaN</td>\n",
              "      <td>992.0</td>\n",
              "      <td>NaN</td>\n",
              "    </tr>\n",
              "  </tbody>\n",
              "</table>\n",
              "<p>80335 rows × 5 columns</p>\n",
              "</div>"
            ],
            "text/plain": [
              "          client_id  Anciennete Profession  product_id    timestamp\n",
              "0      1.346043e+13       142.0  Menuisier         5.0  149398419.0\n",
              "1      1.346043e+13       142.0  Menuisier        92.0  151336821.0\n",
              "2      1.346043e+13       142.0  Menuisier        60.0  208942234.0\n",
              "3      1.346043e+13       142.0  Menuisier        68.0  143765390.0\n",
              "4      1.346043e+13       142.0  Menuisier        57.0  114260889.0\n",
              "...             ...         ...        ...         ...          ...\n",
              "80330  1.345184e+13         NaN        NaN        99.0  118138155.0\n",
              "80331  1.345184e+13         NaN        NaN        99.0  118138155.0\n",
              "80332  1.114115e+13         NaN        NaN        82.0  160840408.0\n",
              "80333  1.114115e+13         NaN        NaN        82.0  160840408.0\n",
              "80334           NaN         NaN        NaN       992.0          NaN\n",
              "\n",
              "[80335 rows x 5 columns]"
            ]
          },
          "metadata": {
            "tags": []
          },
          "execution_count": 139
        },
        {
          "output_type": "stream",
          "text": [
            "Nombre de clients différents:\n"
          ],
          "name": "stdout"
        },
        {
          "output_type": "execute_result",
          "data": {
            "text/plain": [
              "6195"
            ]
          },
          "metadata": {
            "tags": []
          },
          "execution_count": 139
        }
      ]
    },
    {
      "cell_type": "code",
      "metadata": {
        "colab": {
          "base_uri": "https://localhost:8080/",
          "height": 523
        },
        "id": "gu7-GlQcZicI",
        "outputId": "32af08fb-b8ee-4041-967f-8f84f0f040ba"
      },
      "source": [
        "fusion_propre = fusion.drop_duplicates('client_id')\r\n",
        "fusion_propre = fusion_propre.dropna(axis=0, how='any')\r\n",
        "fusion_propre\r\n",
        "print('Nombre de clients par profession:')\r\n",
        "fusion_propre['Profession'].value_counts()"
      ],
      "execution_count": 140,
      "outputs": [
        {
          "output_type": "execute_result",
          "data": {
            "text/html": [
              "<div>\n",
              "<style scoped>\n",
              "    .dataframe tbody tr th:only-of-type {\n",
              "        vertical-align: middle;\n",
              "    }\n",
              "\n",
              "    .dataframe tbody tr th {\n",
              "        vertical-align: top;\n",
              "    }\n",
              "\n",
              "    .dataframe thead th {\n",
              "        text-align: right;\n",
              "    }\n",
              "</style>\n",
              "<table border=\"1\" class=\"dataframe\">\n",
              "  <thead>\n",
              "    <tr style=\"text-align: right;\">\n",
              "      <th></th>\n",
              "      <th>client_id</th>\n",
              "      <th>Anciennete</th>\n",
              "      <th>Profession</th>\n",
              "      <th>product_id</th>\n",
              "      <th>timestamp</th>\n",
              "    </tr>\n",
              "  </thead>\n",
              "  <tbody>\n",
              "    <tr>\n",
              "      <th>0</th>\n",
              "      <td>1.346043e+13</td>\n",
              "      <td>142.0</td>\n",
              "      <td>Menuisier</td>\n",
              "      <td>5.0</td>\n",
              "      <td>149398419.0</td>\n",
              "    </tr>\n",
              "    <tr>\n",
              "      <th>13</th>\n",
              "      <td>4.707284e+12</td>\n",
              "      <td>259.0</td>\n",
              "      <td>Platrier</td>\n",
              "      <td>14.0</td>\n",
              "      <td>107604192.0</td>\n",
              "    </tr>\n",
              "    <tr>\n",
              "      <th>28</th>\n",
              "      <td>2.525441e+12</td>\n",
              "      <td>36.0</td>\n",
              "      <td>Menuisier</td>\n",
              "      <td>83.0</td>\n",
              "      <td>88294511.0</td>\n",
              "    </tr>\n",
              "    <tr>\n",
              "      <th>35</th>\n",
              "      <td>1.697371e+13</td>\n",
              "      <td>216.0</td>\n",
              "      <td>Maçon</td>\n",
              "      <td>9.0</td>\n",
              "      <td>90070593.0</td>\n",
              "    </tr>\n",
              "    <tr>\n",
              "      <th>41</th>\n",
              "      <td>3.642132e+12</td>\n",
              "      <td>19.0</td>\n",
              "      <td>Menuisier</td>\n",
              "      <td>53.0</td>\n",
              "      <td>95659065.0</td>\n",
              "    </tr>\n",
              "    <tr>\n",
              "      <th>...</th>\n",
              "      <td>...</td>\n",
              "      <td>...</td>\n",
              "      <td>...</td>\n",
              "      <td>...</td>\n",
              "      <td>...</td>\n",
              "    </tr>\n",
              "    <tr>\n",
              "      <th>64495</th>\n",
              "      <td>1.232656e+13</td>\n",
              "      <td>50.0</td>\n",
              "      <td>Plombier</td>\n",
              "      <td>64.0</td>\n",
              "      <td>80660725.0</td>\n",
              "    </tr>\n",
              "    <tr>\n",
              "      <th>64497</th>\n",
              "      <td>7.696581e+12</td>\n",
              "      <td>43.0</td>\n",
              "      <td>Platrier</td>\n",
              "      <td>28.0</td>\n",
              "      <td>115722811.0</td>\n",
              "    </tr>\n",
              "    <tr>\n",
              "      <th>64510</th>\n",
              "      <td>1.040241e+13</td>\n",
              "      <td>66.0</td>\n",
              "      <td>Maçon</td>\n",
              "      <td>2.0</td>\n",
              "      <td>198830105.0</td>\n",
              "    </tr>\n",
              "    <tr>\n",
              "      <th>64516</th>\n",
              "      <td>1.437955e+13</td>\n",
              "      <td>70.0</td>\n",
              "      <td>Menuisier</td>\n",
              "      <td>31.0</td>\n",
              "      <td>98079777.0</td>\n",
              "    </tr>\n",
              "    <tr>\n",
              "      <th>64521</th>\n",
              "      <td>2.508261e+12</td>\n",
              "      <td>118.0</td>\n",
              "      <td>Menuisier</td>\n",
              "      <td>72.0</td>\n",
              "      <td>73994583.0</td>\n",
              "    </tr>\n",
              "  </tbody>\n",
              "</table>\n",
              "<p>4481 rows × 5 columns</p>\n",
              "</div>"
            ],
            "text/plain": [
              "          client_id  Anciennete Profession  product_id    timestamp\n",
              "0      1.346043e+13       142.0  Menuisier         5.0  149398419.0\n",
              "13     4.707284e+12       259.0   Platrier        14.0  107604192.0\n",
              "28     2.525441e+12        36.0  Menuisier        83.0   88294511.0\n",
              "35     1.697371e+13       216.0      Maçon         9.0   90070593.0\n",
              "41     3.642132e+12        19.0  Menuisier        53.0   95659065.0\n",
              "...             ...         ...        ...         ...          ...\n",
              "64495  1.232656e+13        50.0   Plombier        64.0   80660725.0\n",
              "64497  7.696581e+12        43.0   Platrier        28.0  115722811.0\n",
              "64510  1.040241e+13        66.0      Maçon         2.0  198830105.0\n",
              "64516  1.437955e+13        70.0  Menuisier        31.0   98079777.0\n",
              "64521  2.508261e+12       118.0  Menuisier        72.0   73994583.0\n",
              "\n",
              "[4481 rows x 5 columns]"
            ]
          },
          "metadata": {
            "tags": []
          },
          "execution_count": 140
        },
        {
          "output_type": "stream",
          "text": [
            "Nombre de clients par profession:\n"
          ],
          "name": "stdout"
        },
        {
          "output_type": "execute_result",
          "data": {
            "text/plain": [
              "Menuisier    2145\n",
              "Maçon         751\n",
              "Platrier      723\n",
              "Plombier      506\n",
              "Couvreur      356\n",
              "Name: Profession, dtype: int64"
            ]
          },
          "metadata": {
            "tags": []
          },
          "execution_count": 140
        }
      ]
    },
    {
      "cell_type": "markdown",
      "metadata": {
        "id": "5eHxdHOEgmYj"
      },
      "source": [
        "Encore une fois, il apparait clairement que nos classes de professions ne sont pas équilibrées. Avant de commencer la modélisation, il faudra donc faire du downsiding pour les menuisiers, et du up siding pour les autres afin de ramener chaque catégorie de profession à 800 individus.  Le choix de 800 vient de la volonté de ne pas trop up sider pour éviter que le modèle soit faussé par des memes données présentes dans le test et dans le train. "
      ]
    },
    {
      "cell_type": "markdown",
      "metadata": {
        "id": "_YA5E1-vFKD1"
      },
      "source": [
        "# Modèle prédictif"
      ]
    },
    {
      "cell_type": "code",
      "metadata": {
        "id": "2cVOCSWDP3kJ"
      },
      "source": [
        "from sklearn.model_selection import train_test_split\r\n",
        "from sklearn import linear_model\r\n",
        "from sklearn.linear_model import LinearRegression\r\n",
        "from sklearn.linear_model import LogisticRegression\r\n",
        "from sklearn.metrics import mean_squared_error\r\n",
        "from sklearn.metrics import r2_score\r\n",
        "from sklearn.preprocessing import PolynomialFeatures\r\n",
        "psi = PolynomialFeatures(2,include_bias=False).fit_transform"
      ],
      "execution_count": 141,
      "outputs": []
    },
    {
      "cell_type": "markdown",
      "metadata": {
        "id": "7SzgSVgx1vvo"
      },
      "source": [
        "## Up and downsampling"
      ]
    },
    {
      "cell_type": "code",
      "metadata": {
        "id": "efXMeNElvpRT",
        "colab": {
          "base_uri": "https://localhost:8080/",
          "height": 321
        },
        "outputId": "c9d29ef1-5a2e-4f87-b7f1-d9d4a959ebec"
      },
      "source": [
        "df_class_0 = fusion_propre[fusion_propre['Profession'] == 'Menuisier']\r\n",
        "df_class_1 = fusion_propre[fusion_propre['Profession']  == 'Maçon']\r\n",
        "df_class_2 = fusion_propre[fusion_propre['Profession'] == 'Platrier']\r\n",
        "df_class_3 = fusion_propre[fusion_propre['Profession'] == 'Plombier']\r\n",
        "df_class_4 = fusion_propre[fusion_propre['Profession'] == 'Couvreur']\r\n",
        "\r\n",
        "nb_classe = 800\r\n",
        "df_class_0_down = df_class_0.sample(n= nb_classe, replace = False)\r\n",
        "df_class_1_down = df_class_1.sample(n= nb_classe, replace = True)\r\n",
        "df_class_2_down = df_class_2.sample(n= nb_classe, replace = True)\r\n",
        "df_class_3_down = df_class_3.sample(n= nb_classe, replace = True)\r\n",
        "df_class_4_down = df_class_4.sample(n= nb_classe, replace = True)\r\n",
        "\r\n",
        "df_under = pd.concat([df_class_0_down, df_class_1_down, df_class_2_down,df_class_3_down,df_class_4_down], axis=0)\r\n",
        "\r\n",
        "df_under['Profession'].value_counts().plot(kind='bar', color='r')"
      ],
      "execution_count": 142,
      "outputs": [
        {
          "output_type": "execute_result",
          "data": {
            "text/plain": [
              "<matplotlib.axes._subplots.AxesSubplot at 0x7f874ff18cf8>"
            ]
          },
          "metadata": {
            "tags": []
          },
          "execution_count": 142
        },
        {
          "output_type": "display_data",
          "data": {
            "image/png": "[encoded data removed]",
            "text/plain": [
              "<Figure size 432x288 with 1 Axes>"
            ]
          },
          "metadata": {
            "tags": []
          }
        }
      ]
    },
    {
      "cell_type": "markdown",
      "metadata": {
        "id": "CH05k_4ni5M0"
      },
      "source": [
        "Les classes sont donc désormais de meme taille = 1000 individus. Nous pouvons désormais constuire un modèle de machine learning. \r\n",
        "\r\n",
        "Sachant que les seules informations que l'on a sur le clients_to_complete sont les client_id et aux vues des résultats des statistiques descriptives, je préfère n'utiliser qu'une variable explicative (client_id) pour prédire ma variable d'intérêt (Profession)."
      ]
    },
    {
      "cell_type": "code",
      "metadata": {
        "id": "UtMtKEFWzQtO",
        "colab": {
          "base_uri": "https://localhost:8080/"
        },
        "outputId": "4dfc95a5-a7f4-4104-9c3e-33416e849365"
      },
      "source": [
        "X = df_under[['client_id']].values\r\n",
        "y = df_under[['Profession']]\r\n",
        "from sklearn import preprocessing\r\n",
        "X = preprocessing.scale(X)"
      ],
      "execution_count": 143,
      "outputs": [
        {
          "output_type": "stream",
          "text": [
            "/usr/local/lib/python3.6/dist-packages/sklearn/preprocessing/_data.py:173: UserWarning: Numerical issues were encountered when centering the data and might not be solved. Dataset may contain too large values. You may need to prescale your features.\n",
            "  warnings.warn(\"Numerical issues were encountered \"\n"
          ],
          "name": "stderr"
        }
      ]
    },
    {
      "cell_type": "code",
      "metadata": {
        "id": "sB0tGByNm4sW"
      },
      "source": [
        "#séparation de la base en train et test : on entraine le modèle sur les train (80%) et on test le modèle sur le reste (20%)\r\n",
        "cut = int(X.shape[0]*0.8)\r\n",
        "from sklearn.utils import shuffle\r\n",
        "X, y = shuffle(X,y)\r\n",
        "X_train = X[:cut]\r\n",
        "y_train = y[:cut]\r\n",
        "X_test = X[cut:]\r\n",
        "y_test = y[cut:]"
      ],
      "execution_count": 144,
      "outputs": []
    },
    {
      "cell_type": "markdown",
      "metadata": {
        "id": "POlsq0BrpLwZ"
      },
      "source": [
        "*Nous sommes désormais prêts à tester deux méthodes de classifiers : KNeighbors et une regression logistique multinomiale. Nous choisirons ensuite la plus performante*"
      ]
    },
    {
      "cell_type": "markdown",
      "metadata": {
        "id": "ZK3uN7yd106a"
      },
      "source": [
        "## KNeighbors Classifers"
      ]
    },
    {
      "cell_type": "code",
      "metadata": {
        "colab": {
          "base_uri": "https://localhost:8080/"
        },
        "id": "Xc9htIvjnV-o",
        "outputId": "a78ac198-c655-4786-a709-7ff42f7067dc"
      },
      "source": [
        "from sklearn.neighbors import KNeighborsClassifier\r\n",
        "knn = KNeighborsClassifier(n_neighbors=1)\r\n",
        "knn.fit(X_train, y_train.values.ravel())"
      ],
      "execution_count": 145,
      "outputs": [
        {
          "output_type": "execute_result",
          "data": {
            "text/plain": [
              "KNeighborsClassifier(algorithm='auto', leaf_size=30, metric='minkowski',\n",
              "                     metric_params=None, n_jobs=None, n_neighbors=1, p=2,\n",
              "                     weights='uniform')"
            ]
          },
          "metadata": {
            "tags": []
          },
          "execution_count": 145
        }
      ]
    },
    {
      "cell_type": "code",
      "metadata": {
        "colab": {
          "base_uri": "https://localhost:8080/"
        },
        "id": "eIhfBpBSnqsD",
        "outputId": "1aa7fcb5-149c-411f-dd3a-a8a99ded341f"
      },
      "source": [
        "print(knn.score(X_train, y_train))\r\n",
        "print(knn.score(X_test, y_test))"
      ],
      "execution_count": 146,
      "outputs": [
        {
          "output_type": "stream",
          "text": [
            "1.0\n",
            "0.63875\n"
          ],
          "name": "stdout"
        }
      ]
    },
    {
      "cell_type": "code",
      "metadata": {
        "colab": {
          "base_uri": "https://localhost:8080/"
        },
        "id": "dwrdPSBd4mBZ",
        "outputId": "c135a932-16d7-4061-cd10-993d5181e22c"
      },
      "source": [
        "tmp = knn.predict(X_test.reshape(-1,1))\r\n",
        "\r\n",
        "c =0\r\n",
        "for i in range(len(tmp)):\r\n",
        "    if tmp[i] == y_test.values[i][0]:\r\n",
        "        c +=1\r\n",
        "print(c)\r\n",
        "print(len(y_test.values))"
      ],
      "execution_count": 147,
      "outputs": [
        {
          "output_type": "stream",
          "text": [
            "511\n",
            "800\n"
          ],
          "name": "stdout"
        }
      ]
    },
    {
      "cell_type": "code",
      "metadata": {
        "colab": {
          "base_uri": "https://localhost:8080/"
        },
        "id": "MgfZkrxc3fTG",
        "outputId": "46f62a37-4f53-4e28-b025-8850d1d7e77b"
      },
      "source": [
        "print(knn.predict(X_test[0].reshape(-1,1)))\r\n",
        "print(y_test.values[0])\r\n",
        "\r\n",
        "print(knn.predict(X_test[11].reshape(-1,1)))\r\n",
        "print(y_test.values[11])"
      ],
      "execution_count": 148,
      "outputs": [
        {
          "output_type": "stream",
          "text": [
            "['Menuisier']\n",
            "['Menuisier']\n",
            "['Plombier']\n",
            "['Plombier']\n"
          ],
          "name": "stdout"
        }
      ]
    },
    {
      "cell_type": "code",
      "metadata": {
        "id": "AVHw_xRNnu9y",
        "colab": {
          "base_uri": "https://localhost:8080/"
        },
        "outputId": "f1b0cda6-36b2-4225-a8d6-89dab697fe6a"
      },
      "source": [
        "indexes = np.arange(0, 50, 1)\r\n",
        "SCORE = []\r\n",
        "SCORE_test = []\r\n",
        "\r\n",
        "for i in indexes:\r\n",
        "    knn_tmp= KNeighborsClassifier(n_neighbors=i+1)\r\n",
        "    knn_tmp.fit(X_train, y_train.values.ravel())\r\n",
        "    SCORE.append(knn_tmp.score(X_train, y_train))\r\n",
        "    SCORE_test.append(knn_tmp.score(X_test, y_test))"
      ],
      "execution_count": 149,
      "outputs": [
        {
          "output_type": "execute_result",
          "data": {
            "text/plain": [
              "KNeighborsClassifier(algorithm='auto', leaf_size=30, metric='minkowski',\n",
              "                     metric_params=None, n_jobs=None, n_neighbors=1, p=2,\n",
              "                     weights='uniform')"
            ]
          },
          "metadata": {
            "tags": []
          },
          "execution_count": 149
        },
        {
          "output_type": "execute_result",
          "data": {
            "text/plain": [
              "KNeighborsClassifier(algorithm='auto', leaf_size=30, metric='minkowski',\n",
              "                     metric_params=None, n_jobs=None, n_neighbors=2, p=2,\n",
              "                     weights='uniform')"
            ]
          },
          "metadata": {
            "tags": []
          },
          "execution_count": 149
        },
        {
          "output_type": "execute_result",
          "data": {
            "text/plain": [
              "KNeighborsClassifier(algorithm='auto', leaf_size=30, metric='minkowski',\n",
              "                     metric_params=None, n_jobs=None, n_neighbors=3, p=2,\n",
              "                     weights='uniform')"
            ]
          },
          "metadata": {
            "tags": []
          },
          "execution_count": 149
        },
        {
          "output_type": "execute_result",
          "data": {
            "text/plain": [
              "KNeighborsClassifier(algorithm='auto', leaf_size=30, metric='minkowski',\n",
              "                     metric_params=None, n_jobs=None, n_neighbors=4, p=2,\n",
              "                     weights='uniform')"
            ]
          },
          "metadata": {
            "tags": []
          },
          "execution_count": 149
        },
        {
          "output_type": "execute_result",
          "data": {
            "text/plain": [
              "KNeighborsClassifier(algorithm='auto', leaf_size=30, metric='minkowski',\n",
              "                     metric_params=None, n_jobs=None, n_neighbors=5, p=2,\n",
              "                     weights='uniform')"
            ]
          },
          "metadata": {
            "tags": []
          },
          "execution_count": 149
        },
        {
          "output_type": "execute_result",
          "data": {
            "text/plain": [
              "KNeighborsClassifier(algorithm='auto', leaf_size=30, metric='minkowski',\n",
              "                     metric_params=None, n_jobs=None, n_neighbors=6, p=2,\n",
              "                     weights='uniform')"
            ]
          },
          "metadata": {
            "tags": []
          },
          "execution_count": 149
        },
        {
          "output_type": "execute_result",
          "data": {
            "text/plain": [
              "KNeighborsClassifier(algorithm='auto', leaf_size=30, metric='minkowski',\n",
              "                     metric_params=None, n_jobs=None, n_neighbors=7, p=2,\n",
              "                     weights='uniform')"
            ]
          },
          "metadata": {
            "tags": []
          },
          "execution_count": 149
        },
        {
          "output_type": "execute_result",
          "data": {
            "text/plain": [
              "KNeighborsClassifier(algorithm='auto', leaf_size=30, metric='minkowski',\n",
              "                     metric_params=None, n_jobs=None, n_neighbors=8, p=2,\n",
              "                     weights='uniform')"
            ]
          },
          "metadata": {
            "tags": []
          },
          "execution_count": 149
        },
        {
          "output_type": "execute_result",
          "data": {
            "text/plain": [
              "KNeighborsClassifier(algorithm='auto', leaf_size=30, metric='minkowski',\n",
              "                     metric_params=None, n_jobs=None, n_neighbors=9, p=2,\n",
              "                     weights='uniform')"
            ]
          },
          "metadata": {
            "tags": []
          },
          "execution_count": 149
        },
        {
          "output_type": "execute_result",
          "data": {
            "text/plain": [
              "KNeighborsClassifier(algorithm='auto', leaf_size=30, metric='minkowski',\n",
              "                     metric_params=None, n_jobs=None, n_neighbors=10, p=2,\n",
              "                     weights='uniform')"
            ]
          },
          "metadata": {
            "tags": []
          },
          "execution_count": 149
        },
        {
          "output_type": "execute_result",
          "data": {
            "text/plain": [
              "KNeighborsClassifier(algorithm='auto', leaf_size=30, metric='minkowski',\n",
              "                     metric_params=None, n_jobs=None, n_neighbors=11, p=2,\n",
              "                     weights='uniform')"
            ]
          },
          "metadata": {
            "tags": []
          },
          "execution_count": 149
        },
        {
          "output_type": "execute_result",
          "data": {
            "text/plain": [
              "KNeighborsClassifier(algorithm='auto', leaf_size=30, metric='minkowski',\n",
              "                     metric_params=None, n_jobs=None, n_neighbors=12, p=2,\n",
              "                     weights='uniform')"
            ]
          },
          "metadata": {
            "tags": []
          },
          "execution_count": 149
        },
        {
          "output_type": "execute_result",
          "data": {
            "text/plain": [
              "KNeighborsClassifier(algorithm='auto', leaf_size=30, metric='minkowski',\n",
              "                     metric_params=None, n_jobs=None, n_neighbors=13, p=2,\n",
              "                     weights='uniform')"
            ]
          },
          "metadata": {
            "tags": []
          },
          "execution_count": 149
        },
        {
          "output_type": "execute_result",
          "data": {
            "text/plain": [
              "KNeighborsClassifier(algorithm='auto', leaf_size=30, metric='minkowski',\n",
              "                     metric_params=None, n_jobs=None, n_neighbors=14, p=2,\n",
              "                     weights='uniform')"
            ]
          },
          "metadata": {
            "tags": []
          },
          "execution_count": 149
        },
        {
          "output_type": "execute_result",
          "data": {
            "text/plain": [
              "KNeighborsClassifier(algorithm='auto', leaf_size=30, metric='minkowski',\n",
              "                     metric_params=None, n_jobs=None, n_neighbors=15, p=2,\n",
              "                     weights='uniform')"
            ]
          },
          "metadata": {
            "tags": []
          },
          "execution_count": 149
        },
        {
          "output_type": "execute_result",
          "data": {
            "text/plain": [
              "KNeighborsClassifier(algorithm='auto', leaf_size=30, metric='minkowski',\n",
              "                     metric_params=None, n_jobs=None, n_neighbors=16, p=2,\n",
              "                     weights='uniform')"
            ]
          },
          "metadata": {
            "tags": []
          },
          "execution_count": 149
        },
        {
          "output_type": "execute_result",
          "data": {
            "text/plain": [
              "KNeighborsClassifier(algorithm='auto', leaf_size=30, metric='minkowski',\n",
              "                     metric_params=None, n_jobs=None, n_neighbors=17, p=2,\n",
              "                     weights='uniform')"
            ]
          },
          "metadata": {
            "tags": []
          },
          "execution_count": 149
        },
        {
          "output_type": "execute_result",
          "data": {
            "text/plain": [
              "KNeighborsClassifier(algorithm='auto', leaf_size=30, metric='minkowski',\n",
              "                     metric_params=None, n_jobs=None, n_neighbors=18, p=2,\n",
              "                     weights='uniform')"
            ]
          },
          "metadata": {
            "tags": []
          },
          "execution_count": 149
        },
        {
          "output_type": "execute_result",
          "data": {
            "text/plain": [
              "KNeighborsClassifier(algorithm='auto', leaf_size=30, metric='minkowski',\n",
              "                     metric_params=None, n_jobs=None, n_neighbors=19, p=2,\n",
              "                     weights='uniform')"
            ]
          },
          "metadata": {
            "tags": []
          },
          "execution_count": 149
        },
        {
          "output_type": "execute_result",
          "data": {
            "text/plain": [
              "KNeighborsClassifier(algorithm='auto', leaf_size=30, metric='minkowski',\n",
              "                     metric_params=None, n_jobs=None, n_neighbors=20, p=2,\n",
              "                     weights='uniform')"
            ]
          },
          "metadata": {
            "tags": []
          },
          "execution_count": 149
        },
        {
          "output_type": "execute_result",
          "data": {
            "text/plain": [
              "KNeighborsClassifier(algorithm='auto', leaf_size=30, metric='minkowski',\n",
              "                     metric_params=None, n_jobs=None, n_neighbors=21, p=2,\n",
              "                     weights='uniform')"
            ]
          },
          "metadata": {
            "tags": []
          },
          "execution_count": 149
        },
        {
          "output_type": "execute_result",
          "data": {
            "text/plain": [
              "KNeighborsClassifier(algorithm='auto', leaf_size=30, metric='minkowski',\n",
              "                     metric_params=None, n_jobs=None, n_neighbors=22, p=2,\n",
              "                     weights='uniform')"
            ]
          },
          "metadata": {
            "tags": []
          },
          "execution_count": 149
        },
        {
          "output_type": "execute_result",
          "data": {
            "text/plain": [
              "KNeighborsClassifier(algorithm='auto', leaf_size=30, metric='minkowski',\n",
              "                     metric_params=None, n_jobs=None, n_neighbors=23, p=2,\n",
              "                     weights='uniform')"
            ]
          },
          "metadata": {
            "tags": []
          },
          "execution_count": 149
        },
        {
          "output_type": "execute_result",
          "data": {
            "text/plain": [
              "KNeighborsClassifier(algorithm='auto', leaf_size=30, metric='minkowski',\n",
              "                     metric_params=None, n_jobs=None, n_neighbors=24, p=2,\n",
              "                     weights='uniform')"
            ]
          },
          "metadata": {
            "tags": []
          },
          "execution_count": 149
        },
        {
          "output_type": "execute_result",
          "data": {
            "text/plain": [
              "KNeighborsClassifier(algorithm='auto', leaf_size=30, metric='minkowski',\n",
              "                     metric_params=None, n_jobs=None, n_neighbors=25, p=2,\n",
              "                     weights='uniform')"
            ]
          },
          "metadata": {
            "tags": []
          },
          "execution_count": 149
        },
        {
          "output_type": "execute_result",
          "data": {
            "text/plain": [
              "KNeighborsClassifier(algorithm='auto', leaf_size=30, metric='minkowski',\n",
              "                     metric_params=None, n_jobs=None, n_neighbors=26, p=2,\n",
              "                     weights='uniform')"
            ]
          },
          "metadata": {
            "tags": []
          },
          "execution_count": 149
        },
        {
          "output_type": "execute_result",
          "data": {
            "text/plain": [
              "KNeighborsClassifier(algorithm='auto', leaf_size=30, metric='minkowski',\n",
              "                     metric_params=None, n_jobs=None, n_neighbors=27, p=2,\n",
              "                     weights='uniform')"
            ]
          },
          "metadata": {
            "tags": []
          },
          "execution_count": 149
        },
        {
          "output_type": "execute_result",
          "data": {
            "text/plain": [
              "KNeighborsClassifier(algorithm='auto', leaf_size=30, metric='minkowski',\n",
              "                     metric_params=None, n_jobs=None, n_neighbors=28, p=2,\n",
              "                     weights='uniform')"
            ]
          },
          "metadata": {
            "tags": []
          },
          "execution_count": 149
        },
        {
          "output_type": "execute_result",
          "data": {
            "text/plain": [
              "KNeighborsClassifier(algorithm='auto', leaf_size=30, metric='minkowski',\n",
              "                     metric_params=None, n_jobs=None, n_neighbors=29, p=2,\n",
              "                     weights='uniform')"
            ]
          },
          "metadata": {
            "tags": []
          },
          "execution_count": 149
        },
        {
          "output_type": "execute_result",
          "data": {
            "text/plain": [
              "KNeighborsClassifier(algorithm='auto', leaf_size=30, metric='minkowski',\n",
              "                     metric_params=None, n_jobs=None, n_neighbors=30, p=2,\n",
              "                     weights='uniform')"
            ]
          },
          "metadata": {
            "tags": []
          },
          "execution_count": 149
        },
        {
          "output_type": "execute_result",
          "data": {
            "text/plain": [
              "KNeighborsClassifier(algorithm='auto', leaf_size=30, metric='minkowski',\n",
              "                     metric_params=None, n_jobs=None, n_neighbors=31, p=2,\n",
              "                     weights='uniform')"
            ]
          },
          "metadata": {
            "tags": []
          },
          "execution_count": 149
        },
        {
          "output_type": "execute_result",
          "data": {
            "text/plain": [
              "KNeighborsClassifier(algorithm='auto', leaf_size=30, metric='minkowski',\n",
              "                     metric_params=None, n_jobs=None, n_neighbors=32, p=2,\n",
              "                     weights='uniform')"
            ]
          },
          "metadata": {
            "tags": []
          },
          "execution_count": 149
        },
        {
          "output_type": "execute_result",
          "data": {
            "text/plain": [
              "KNeighborsClassifier(algorithm='auto', leaf_size=30, metric='minkowski',\n",
              "                     metric_params=None, n_jobs=None, n_neighbors=33, p=2,\n",
              "                     weights='uniform')"
            ]
          },
          "metadata": {
            "tags": []
          },
          "execution_count": 149
        },
        {
          "output_type": "execute_result",
          "data": {
            "text/plain": [
              "KNeighborsClassifier(algorithm='auto', leaf_size=30, metric='minkowski',\n",
              "                     metric_params=None, n_jobs=None, n_neighbors=34, p=2,\n",
              "                     weights='uniform')"
            ]
          },
          "metadata": {
            "tags": []
          },
          "execution_count": 149
        },
        {
          "output_type": "execute_result",
          "data": {
            "text/plain": [
              "KNeighborsClassifier(algorithm='auto', leaf_size=30, metric='minkowski',\n",
              "                     metric_params=None, n_jobs=None, n_neighbors=35, p=2,\n",
              "                     weights='uniform')"
            ]
          },
          "metadata": {
            "tags": []
          },
          "execution_count": 149
        },
        {
          "output_type": "execute_result",
          "data": {
            "text/plain": [
              "KNeighborsClassifier(algorithm='auto', leaf_size=30, metric='minkowski',\n",
              "                     metric_params=None, n_jobs=None, n_neighbors=36, p=2,\n",
              "                     weights='uniform')"
            ]
          },
          "metadata": {
            "tags": []
          },
          "execution_count": 149
        },
        {
          "output_type": "execute_result",
          "data": {
            "text/plain": [
              "KNeighborsClassifier(algorithm='auto', leaf_size=30, metric='minkowski',\n",
              "                     metric_params=None, n_jobs=None, n_neighbors=37, p=2,\n",
              "                     weights='uniform')"
            ]
          },
          "metadata": {
            "tags": []
          },
          "execution_count": 149
        },
        {
          "output_type": "execute_result",
          "data": {
            "text/plain": [
              "KNeighborsClassifier(algorithm='auto', leaf_size=30, metric='minkowski',\n",
              "                     metric_params=None, n_jobs=None, n_neighbors=38, p=2,\n",
              "                     weights='uniform')"
            ]
          },
          "metadata": {
            "tags": []
          },
          "execution_count": 149
        },
        {
          "output_type": "execute_result",
          "data": {
            "text/plain": [
              "KNeighborsClassifier(algorithm='auto', leaf_size=30, metric='minkowski',\n",
              "                     metric_params=None, n_jobs=None, n_neighbors=39, p=2,\n",
              "                     weights='uniform')"
            ]
          },
          "metadata": {
            "tags": []
          },
          "execution_count": 149
        },
        {
          "output_type": "execute_result",
          "data": {
            "text/plain": [
              "KNeighborsClassifier(algorithm='auto', leaf_size=30, metric='minkowski',\n",
              "                     metric_params=None, n_jobs=None, n_neighbors=40, p=2,\n",
              "                     weights='uniform')"
            ]
          },
          "metadata": {
            "tags": []
          },
          "execution_count": 149
        },
        {
          "output_type": "execute_result",
          "data": {
            "text/plain": [
              "KNeighborsClassifier(algorithm='auto', leaf_size=30, metric='minkowski',\n",
              "                     metric_params=None, n_jobs=None, n_neighbors=41, p=2,\n",
              "                     weights='uniform')"
            ]
          },
          "metadata": {
            "tags": []
          },
          "execution_count": 149
        },
        {
          "output_type": "execute_result",
          "data": {
            "text/plain": [
              "KNeighborsClassifier(algorithm='auto', leaf_size=30, metric='minkowski',\n",
              "                     metric_params=None, n_jobs=None, n_neighbors=42, p=2,\n",
              "                     weights='uniform')"
            ]
          },
          "metadata": {
            "tags": []
          },
          "execution_count": 149
        },
        {
          "output_type": "execute_result",
          "data": {
            "text/plain": [
              "KNeighborsClassifier(algorithm='auto', leaf_size=30, metric='minkowski',\n",
              "                     metric_params=None, n_jobs=None, n_neighbors=43, p=2,\n",
              "                     weights='uniform')"
            ]
          },
          "metadata": {
            "tags": []
          },
          "execution_count": 149
        },
        {
          "output_type": "execute_result",
          "data": {
            "text/plain": [
              "KNeighborsClassifier(algorithm='auto', leaf_size=30, metric='minkowski',\n",
              "                     metric_params=None, n_jobs=None, n_neighbors=44, p=2,\n",
              "                     weights='uniform')"
            ]
          },
          "metadata": {
            "tags": []
          },
          "execution_count": 149
        },
        {
          "output_type": "execute_result",
          "data": {
            "text/plain": [
              "KNeighborsClassifier(algorithm='auto', leaf_size=30, metric='minkowski',\n",
              "                     metric_params=None, n_jobs=None, n_neighbors=45, p=2,\n",
              "                     weights='uniform')"
            ]
          },
          "metadata": {
            "tags": []
          },
          "execution_count": 149
        },
        {
          "output_type": "execute_result",
          "data": {
            "text/plain": [
              "KNeighborsClassifier(algorithm='auto', leaf_size=30, metric='minkowski',\n",
              "                     metric_params=None, n_jobs=None, n_neighbors=46, p=2,\n",
              "                     weights='uniform')"
            ]
          },
          "metadata": {
            "tags": []
          },
          "execution_count": 149
        },
        {
          "output_type": "execute_result",
          "data": {
            "text/plain": [
              "KNeighborsClassifier(algorithm='auto', leaf_size=30, metric='minkowski',\n",
              "                     metric_params=None, n_jobs=None, n_neighbors=47, p=2,\n",
              "                     weights='uniform')"
            ]
          },
          "metadata": {
            "tags": []
          },
          "execution_count": 149
        },
        {
          "output_type": "execute_result",
          "data": {
            "text/plain": [
              "KNeighborsClassifier(algorithm='auto', leaf_size=30, metric='minkowski',\n",
              "                     metric_params=None, n_jobs=None, n_neighbors=48, p=2,\n",
              "                     weights='uniform')"
            ]
          },
          "metadata": {
            "tags": []
          },
          "execution_count": 149
        },
        {
          "output_type": "execute_result",
          "data": {
            "text/plain": [
              "KNeighborsClassifier(algorithm='auto', leaf_size=30, metric='minkowski',\n",
              "                     metric_params=None, n_jobs=None, n_neighbors=49, p=2,\n",
              "                     weights='uniform')"
            ]
          },
          "metadata": {
            "tags": []
          },
          "execution_count": 149
        },
        {
          "output_type": "execute_result",
          "data": {
            "text/plain": [
              "KNeighborsClassifier(algorithm='auto', leaf_size=30, metric='minkowski',\n",
              "                     metric_params=None, n_jobs=None, n_neighbors=50, p=2,\n",
              "                     weights='uniform')"
            ]
          },
          "metadata": {
            "tags": []
          },
          "execution_count": 149
        }
      ]
    },
    {
      "cell_type": "code",
      "metadata": {
        "colab": {
          "base_uri": "https://localhost:8080/",
          "height": 282
        },
        "id": "5w_PRxBFrRUB",
        "outputId": "ac5c5bd5-51ce-4b16-e073-28cc9e93ab3f"
      },
      "source": [
        "plt.plot(indexes, SCORE, label='training')\r\n",
        "plt.plot(indexes, SCORE_test, label='test_set')\r\n",
        "plt.legend()\r\n",
        "plt.show()"
      ],
      "execution_count": 150,
      "outputs": [
        {
          "output_type": "execute_result",
          "data": {
            "text/plain": [
              "[<matplotlib.lines.Line2D at 0x7f874fdca128>]"
            ]
          },
          "metadata": {
            "tags": []
          },
          "execution_count": 150
        },
        {
          "output_type": "execute_result",
          "data": {
            "text/plain": [
              "[<matplotlib.lines.Line2D at 0x7f874fe23390>]"
            ]
          },
          "metadata": {
            "tags": []
          },
          "execution_count": 150
        },
        {
          "output_type": "execute_result",
          "data": {
            "text/plain": [
              "<matplotlib.legend.Legend at 0x7f874fe28748>"
            ]
          },
          "metadata": {
            "tags": []
          },
          "execution_count": 150
        },
        {
          "output_type": "display_data",
          "data": {
            "image/png": "[encoded data removed]",
            "text/plain": [
              "<Figure size 432x288 with 1 Axes>"
            ]
          },
          "metadata": {
            "tags": []
          }
        }
      ]
    },
    {
      "cell_type": "markdown",
      "metadata": {
        "id": "aKwaiTJLpz8N"
      },
      "source": [
        "Notre modèle est donc efficace à 60% pour un très petit nombre de voisins. Voyons ce qu'il en est de la regression logistique. \r\n",
        "\r\n",
        "## Regression logistique multinomiale "
      ]
    },
    {
      "cell_type": "code",
      "metadata": {
        "colab": {
          "base_uri": "https://localhost:8080/"
        },
        "id": "Vz-VSt2tp6BC",
        "outputId": "75b66a18-976b-494b-b61c-08de4bc3b1dc"
      },
      "source": [
        "modele_regLog = linear_model.LogisticRegression(random_state = 0, solver = 'lbfgs', multi_class = 'auto')\r\n",
        "#training\r\n",
        "modele_regLog.fit(X_train,y_train.values.ravel())\r\n",
        "#précision du modèle\r\n",
        "precision = modele_regLog.score(X_test,y_test)\r\n",
        "print('\\n',precision*100)"
      ],
      "execution_count": 151,
      "outputs": [
        {
          "output_type": "execute_result",
          "data": {
            "text/plain": [
              "LogisticRegression(C=1.0, class_weight=None, dual=False, fit_intercept=True,\n",
              "                   intercept_scaling=1, l1_ratio=None, max_iter=100,\n",
              "                   multi_class='auto', n_jobs=None, penalty='l2',\n",
              "                   random_state=0, solver='lbfgs', tol=0.0001, verbose=0,\n",
              "                   warm_start=False)"
            ]
          },
          "metadata": {
            "tags": []
          },
          "execution_count": 151
        },
        {
          "output_type": "stream",
          "text": [
            "\n",
            " 19.25\n"
          ],
          "name": "stdout"
        }
      ]
    },
    {
      "cell_type": "code",
      "metadata": {
        "colab": {
          "base_uri": "https://localhost:8080/"
        },
        "id": "SKaUcgQsqIoZ",
        "outputId": "e25aa7dc-71d5-46b5-f1c7-8b77a5986696"
      },
      "source": [
        "print(modele_regLog.score(X_train, y_train))\r\n",
        "print(modele_regLog.score(X_test, y_test))"
      ],
      "execution_count": 152,
      "outputs": [
        {
          "output_type": "stream",
          "text": [
            "0.21375\n",
            "0.1925\n"
          ],
          "name": "stdout"
        }
      ]
    },
    {
      "cell_type": "code",
      "metadata": {
        "colab": {
          "base_uri": "https://localhost:8080/"
        },
        "id": "9VJPxbegqNVp",
        "outputId": "03c9e8d1-3b79-46a5-afd5-2bfb6f1829ec"
      },
      "source": [
        "print(modele_regLog.predict(X_train[0].reshape(-1,1)))\r\n",
        "print(y_train.values[0])"
      ],
      "execution_count": 153,
      "outputs": [
        {
          "output_type": "stream",
          "text": [
            "['Menuisier']\n",
            "['Platrier']\n"
          ],
          "name": "stdout"
        }
      ]
    },
    {
      "cell_type": "markdown",
      "metadata": {
        "id": "BL-EfjS2ySqb"
      },
      "source": [
        "On s'apercoit que le prédicteur de la regression logistique n'est pas du tout efficace, on va donc garder celui du Knn. "
      ]
    },
    {
      "cell_type": "markdown",
      "metadata": {
        "id": "C1jdyyB538fs"
      },
      "source": [
        "# Prediction Finale"
      ]
    },
    {
      "cell_type": "markdown",
      "metadata": {
        "id": "ve-our7RzogE"
      },
      "source": [
        "*On utilise donc notre prédicteur knn, tout en sachant qu'il est efficace à 60%, pour prédire les professions des clients.*"
      ]
    },
    {
      "cell_type": "code",
      "metadata": {
        "id": "PyCR_2vC38Q4",
        "colab": {
          "base_uri": "https://localhost:8080/",
          "height": 407
        },
        "outputId": "34c749d5-af07-4426-fe48-4bd27dc96832"
      },
      "source": [
        "X_tocomplete = clients_to_complete.values\r\n",
        "jobs = knn.predict(X_tocomplete.reshape(-1,1))\r\n",
        "clients_to_complete.insert(1, 'predicted_profession', jobs)\r\n",
        "clients_to_complete"
      ],
      "execution_count": 154,
      "outputs": [
        {
          "output_type": "execute_result",
          "data": {
            "text/html": [
              "<div>\n",
              "<style scoped>\n",
              "    .dataframe tbody tr th:only-of-type {\n",
              "        vertical-align: middle;\n",
              "    }\n",
              "\n",
              "    .dataframe tbody tr th {\n",
              "        vertical-align: top;\n",
              "    }\n",
              "\n",
              "    .dataframe thead th {\n",
              "        text-align: right;\n",
              "    }\n",
              "</style>\n",
              "<table border=\"1\" class=\"dataframe\">\n",
              "  <thead>\n",
              "    <tr style=\"text-align: right;\">\n",
              "      <th></th>\n",
              "      <th>client_id</th>\n",
              "      <th>predicted_profession</th>\n",
              "    </tr>\n",
              "  </thead>\n",
              "  <tbody>\n",
              "    <tr>\n",
              "      <th>0</th>\n",
              "      <td>240518168577</td>\n",
              "      <td>Menuisier</td>\n",
              "    </tr>\n",
              "    <tr>\n",
              "      <th>1</th>\n",
              "      <td>3659312136192</td>\n",
              "      <td>Menuisier</td>\n",
              "    </tr>\n",
              "    <tr>\n",
              "      <th>2</th>\n",
              "      <td>4123168604161</td>\n",
              "      <td>Menuisier</td>\n",
              "    </tr>\n",
              "    <tr>\n",
              "      <th>3</th>\n",
              "      <td>7456063225858</td>\n",
              "      <td>Menuisier</td>\n",
              "    </tr>\n",
              "    <tr>\n",
              "      <th>4</th>\n",
              "      <td>1829656068096</td>\n",
              "      <td>Menuisier</td>\n",
              "    </tr>\n",
              "    <tr>\n",
              "      <th>...</th>\n",
              "      <td>...</td>\n",
              "      <td>...</td>\n",
              "    </tr>\n",
              "    <tr>\n",
              "      <th>1260</th>\n",
              "      <td>16372415332352</td>\n",
              "      <td>Menuisier</td>\n",
              "    </tr>\n",
              "    <tr>\n",
              "      <th>1261</th>\n",
              "      <td>953482739712</td>\n",
              "      <td>Menuisier</td>\n",
              "    </tr>\n",
              "    <tr>\n",
              "      <th>1262</th>\n",
              "      <td>7980049235969</td>\n",
              "      <td>Menuisier</td>\n",
              "    </tr>\n",
              "    <tr>\n",
              "      <th>1263</th>\n",
              "      <td>6047313952769</td>\n",
              "      <td>Menuisier</td>\n",
              "    </tr>\n",
              "    <tr>\n",
              "      <th>1264</th>\n",
              "      <td>10617159155713</td>\n",
              "      <td>Menuisier</td>\n",
              "    </tr>\n",
              "  </tbody>\n",
              "</table>\n",
              "<p>1265 rows × 2 columns</p>\n",
              "</div>"
            ],
            "text/plain": [
              "           client_id predicted_profession\n",
              "0       240518168577            Menuisier\n",
              "1      3659312136192            Menuisier\n",
              "2      4123168604161            Menuisier\n",
              "3      7456063225858            Menuisier\n",
              "4      1829656068096            Menuisier\n",
              "...              ...                  ...\n",
              "1260  16372415332352            Menuisier\n",
              "1261    953482739712            Menuisier\n",
              "1262   7980049235969            Menuisier\n",
              "1263   6047313952769            Menuisier\n",
              "1264  10617159155713            Menuisier\n",
              "\n",
              "[1265 rows x 2 columns]"
            ]
          },
          "metadata": {
            "tags": []
          },
          "execution_count": 154
        }
      ]
    },
    {
      "cell_type": "code",
      "metadata": {
        "id": "MUhdZsIMKfqj"
      },
      "source": [
        ""
      ],
      "execution_count": 154,
      "outputs": []
    }
  ]
}